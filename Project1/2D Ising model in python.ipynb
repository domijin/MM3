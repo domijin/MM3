{
 "cells": [
  {
   "cell_type": "code",
   "execution_count": 1,
   "metadata": {
    "collapsed": false
   },
   "outputs": [
    {
     "name": "stdout",
     "output_type": "stream",
     "text": [
      "Populating the interactive namespace from numpy and matplotlib\n"
     ]
    }
   ],
   "source": [
    "%pylab inline"
   ]
  },
  {
   "cell_type": "code",
   "execution_count": 123,
   "metadata": {
    "collapsed": false
   },
   "outputs": [],
   "source": [
    "# initialize\n",
    "L=20\n",
    "transient=1000\n",
    "nmc=10000\n",
    "Etot=0\n",
    "Mtot=0\n",
    "lat=[]\n",
    "lat.append(random.choice([1,-1],size=L*L))\n",
    "lat=reshape(lat,[L,L]);"
   ]
  },
  {
   "cell_type": "code",
   "execution_count": 151,
   "metadata": {
    "collapsed": false
   },
   "outputs": [
    {
     "ename": "SyntaxError",
     "evalue": "invalid syntax (<ipython-input-151-2b109d16954c>, line 21)",
     "output_type": "error",
     "traceback": [
      "\u001b[0;36m  File \u001b[0;32m\"<ipython-input-151-2b109d16954c>\"\u001b[0;36m, line \u001b[0;32m21\u001b[0m\n\u001b[0;31m    e=-1*lat[x,y]*(lat[x-1,y]+lat[x>18?0:x+1,y]+lat[x,y>18?0:y+1]+lat[x,y-1])\u001b[0m\n\u001b[0m                                      ^\u001b[0m\n\u001b[0;31mSyntaxError\u001b[0m\u001b[0;31m:\u001b[0m invalid syntax\n"
     ]
    }
   ],
   "source": [
    "for t in range(0,50): \n",
    "    for i in range(1,transient):\n",
    "        for j in range(1,L*L):\n",
    "            T=5-5/10\n",
    "            x=random.randint(20)\n",
    "            y=random.randint(20)\n",
    "            e=-1*lat[x,y]*(lat[x-1,y]+lat[x+1,y]+lat[x,y+1]+lat[x,y-1])\n",
    "            dE=-2*e\n",
    "            if (dE<0 or random.rand()<exp(-dE/T)):\n",
    "                lat[x,y]=-lat[x,y]\n",
    "#    M=sum(lat)\n",
    "#    E=-1*sum(multiply(lat,roll(lat,1,axis=0)+roll(lat,-1,axis=0)+roll(lat,1,axis=1)+roll(lat,-1,axis=1)))\n",
    "    Etot=0\n",
    "    Mtot=0\n",
    "    E=0\n",
    "    M=0\n",
    "    for i in range(1,nmc):\n",
    "        for j in range(1,L*L):\n",
    "            x=random.randint(20)\n",
    "            y=random.randint(20)\n",
    "            e=-1*lat[x,y]*(lat[x-1,y]+lat[x>18?0:x+1,y]+lat[x,y>18?0:y+1]+lat[x,y-1])\n",
    "            dE=-2*e\n",
    "            if (dE<0 or random.rand()<exp(-dE/T)):\n",
    "                lat[x,y]=-lat[x,y]\n",
    "                E=E+2*dE\n",
    "                M=M+2*lat[x,y]\n",
    "            Etot=Etot+E/2.0\n",
    "            Mtot=Mtot+M\n",
    "        print E,M,5-t/10"
   ]
  },
  {
   "cell_type": "code",
   "execution_count": 111,
   "metadata": {
    "collapsed": false
   },
   "outputs": [
    {
     "data": {
      "text/plain": [
       "[[0, 1, 2, 3], [4, 5, 6, 7]]"
      ]
     },
     "execution_count": 111,
     "metadata": {},
     "output_type": "execute_result"
    }
   ],
   "source": [
    "a=[]\n",
    "a.append(range(4))\n",
    "a.append(range(4,8))\n",
    "roll(a,1,axis=0)\n",
    "roll(a,-1,axis=0)\n",
    "roll(a,1,axis=1)\n",
    "roll(a,-1,axis=1)"
   ]
  },
  {
   "cell_type": "code",
   "execution_count": 120,
   "metadata": {
    "collapsed": false
   },
   "outputs": [
    {
     "data": {
      "text/plain": [
       "0"
      ]
     },
     "execution_count": 120,
     "metadata": {},
     "output_type": "execute_result"
    }
   ],
   "source": [
    "-1*sum(multiply(lat,roll(lat,1,axis=0)+roll(lat,-1,axis=0)+roll(lat,1,axis=1)+roll(lat,-1,axis=1)))"
   ]
  },
  {
   "cell_type": "code",
   "execution_count": 152,
   "metadata": {
    "collapsed": false
   },
   "outputs": [
    {
     "ename": "SyntaxError",
     "evalue": "invalid syntax (<ipython-input-152-0a6c3fd4050c>, line 2)",
     "output_type": "error",
     "traceback": [
      "\u001b[0;36m  File \u001b[0;32m\"<ipython-input-152-0a6c3fd4050c>\"\u001b[0;36m, line \u001b[0;32m2\u001b[0m\n\u001b[0;31m    x>18?1:2\u001b[0m\n\u001b[0m        ^\u001b[0m\n\u001b[0;31mSyntaxError\u001b[0m\u001b[0;31m:\u001b[0m invalid syntax\n"
     ]
    }
   ],
   "source": []
  },
  {
   "cell_type": "code",
   "execution_count": null,
   "metadata": {
    "collapsed": true
   },
   "outputs": [],
   "source": []
  }
 ],
 "metadata": {
  "kernelspec": {
   "display_name": "Python 2",
   "language": "python",
   "name": "python2"
  },
  "language_info": {
   "codemirror_mode": {
    "name": "ipython",
    "version": 2
   },
   "file_extension": ".py",
   "mimetype": "text/x-python",
   "name": "python",
   "nbconvert_exporter": "python",
   "pygments_lexer": "ipython2",
   "version": "2.7.11"
  }
 },
 "nbformat": 4,
 "nbformat_minor": 0
}
